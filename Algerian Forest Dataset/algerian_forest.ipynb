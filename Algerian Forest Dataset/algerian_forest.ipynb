{
 "cells": [
  {
   "cell_type": "code",
   "execution_count": null,
   "metadata": {},
   "outputs": [],
   "source": [
    "### using the algerian forest dataset. \n",
    "### Steps to be done:\n",
    "### 1: EDA\n",
    "### 2: Feature Engineering\n",
    "### 3: Clean the data\n",
    "### 4: Apply regression\n",
    "### 5: Hyperparameter Tunning"
   ]
  },
  {
   "cell_type": "code",
   "execution_count": null,
   "metadata": {},
   "outputs": [],
   "source": []
  }
 ],
 "metadata": {
  "language_info": {
   "name": "python"
  }
 },
 "nbformat": 4,
 "nbformat_minor": 2
}
